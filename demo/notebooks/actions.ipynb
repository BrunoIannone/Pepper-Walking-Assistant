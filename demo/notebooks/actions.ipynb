{
 "cells": [
  {
   "cell_type": "code",
   "execution_count": 5,
   "metadata": {},
   "outputs": [
    {
     "name": "stdout",
     "output_type": "stream",
     "text": [
      "['right', 'blind', 'walk', 'hold', 'hand']\n",
      "rightBlindWalkHoldHand\n",
      "Generated action: rightBlindWalkHoldHand\n",
      "\n",
      "['left', 'blind', 'walk', 'hold', 'hand']\n",
      "leftBlindWalkHoldHand\n",
      "Generated action: leftBlindWalkHoldHand\n",
      "\n",
      "['right', 'deaf', 'walk', 'hold', 'hand']\n",
      "rightDeafWalkHoldHand\n",
      "Generated action: rightDeafWalkHoldHand\n",
      "\n",
      "['left', 'deaf', 'walk', 'hold', 'hand']\n",
      "leftDeafWalkHoldHand\n",
      "Generated action: leftDeafWalkHoldHand\n",
      "\n"
     ]
    }
   ],
   "source": [
    "import os\n",
    "\n",
    "class DummyActionManager:\n",
    "\n",
    "    def __init__(self):\n",
    "        pass\n",
    "\n",
    "    def generate_actions(self, actions_path):\n",
    "\n",
    "        for file_name in os.listdir(actions_path):\n",
    "\n",
    "            if os.path.isfile(os.path.join(actions_path, file_name)):\n",
    "\n",
    "                # Generate the function name\n",
    "                action_tokens = file_name.replace(\"_\", \" \").split()\n",
    "                print(action_tokens)\n",
    "\n",
    "                # Capitalize the words (camel case) leaving the first unchanged\n",
    "                action_tokens = [action_tokens[0]] + [token.capitalize() for token in action_tokens[1:]]\n",
    "\n",
    "                function_name = ''.join(action_tokens)\n",
    "                print(function_name)\n",
    "\n",
    "                # Define the function dynamically\n",
    "                def make_action_func(action):\n",
    "                    def action_func():\n",
    "                        print(action)\n",
    "\n",
    "                    return action_func\n",
    "\n",
    "                # Assign the function to the class\n",
    "                # func_name = file_name.replace(\"_\", \"\").capitalize() + \"Action\"\n",
    "                setattr(self, function_name, make_action_func(file_name))\n",
    "\n",
    "                print(f\"Generated action: {function_name}\")\n",
    "                print()\n",
    "\n",
    "\n",
    "dam = DummyActionManager()\n",
    "dam.generate_actions('../actions/robotOnly')"
   ]
  }
 ],
 "metadata": {
  "kernelspec": {
   "display_name": "Python 3",
   "language": "python",
   "name": "python3"
  },
  "language_info": {
   "codemirror_mode": {
    "name": "ipython",
    "version": 3
   },
   "file_extension": ".py",
   "mimetype": "text/x-python",
   "name": "python",
   "nbconvert_exporter": "python",
   "pygments_lexer": "ipython3",
   "version": "3.10.12"
  }
 },
 "nbformat": 4,
 "nbformat_minor": 2
}
